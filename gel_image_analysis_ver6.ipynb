{
 "cells": [
  {
   "cell_type": "markdown",
   "metadata": {},
   "source": [
    "## Developing an automated digital reader through ML for quality control of products"
   ]
  },
  {
   "cell_type": "code",
   "execution_count": 172,
   "metadata": {},
   "outputs": [],
   "source": [
    "# import the necessary packages\n",
    "import numpy as np\n",
    "import pandas as pd\n",
    "import imutils\n",
    "import cv2\n",
    "\n",
    "import sys\n",
    "from PIL import Image\n",
    "\n",
    "from matplotlib import pyplot as plt\n",
    "%matplotlib inline\n",
    "\n",
    "from pandas import ExcelWriter\n",
    "from pandas import ExcelFile\n",
    "\n",
    "import seaborn as sns"
   ]
  },
  {
   "cell_type": "markdown",
   "metadata": {},
   "source": [
    "### Read the gel-image data"
   ]
  },
  {
   "cell_type": "code",
   "execution_count": 173,
   "metadata": {},
   "outputs": [
    {
     "name": "stderr",
     "output_type": "stream",
     "text": [
      "/anaconda3/envs/gelquant/lib/python3.7/site-packages/ipykernel_launcher.py:16: FutureWarning: Method .as_matrix will be removed in a future version. Use .values instead.\n",
      "  app.launch_new_instance()\n"
     ]
    },
    {
     "data": {
      "text/html": [
       "<div>\n",
       "<style scoped>\n",
       "    .dataframe tbody tr th:only-of-type {\n",
       "        vertical-align: middle;\n",
       "    }\n",
       "\n",
       "    .dataframe tbody tr th {\n",
       "        vertical-align: top;\n",
       "    }\n",
       "\n",
       "    .dataframe thead th {\n",
       "        text-align: right;\n",
       "    }\n",
       "</style>\n",
       "<table border=\"1\" class=\"dataframe\">\n",
       "  <thead>\n",
       "    <tr style=\"text-align: right;\">\n",
       "      <th></th>\n",
       "      <th>0</th>\n",
       "      <th>1</th>\n",
       "      <th>2</th>\n",
       "      <th>3</th>\n",
       "      <th>4</th>\n",
       "      <th>5</th>\n",
       "      <th>6</th>\n",
       "      <th>7</th>\n",
       "      <th>8</th>\n",
       "      <th>9</th>\n",
       "      <th>...</th>\n",
       "      <th>167</th>\n",
       "      <th>168</th>\n",
       "      <th>169</th>\n",
       "      <th>170</th>\n",
       "      <th>171</th>\n",
       "      <th>172</th>\n",
       "      <th>173</th>\n",
       "      <th>174</th>\n",
       "      <th>175</th>\n",
       "      <th>176</th>\n",
       "    </tr>\n",
       "  </thead>\n",
       "  <tbody>\n",
       "    <tr>\n",
       "      <th>0</th>\n",
       "      <td>-0.105862</td>\n",
       "      <td>-0.105590</td>\n",
       "      <td>-0.104993</td>\n",
       "      <td>-0.106827</td>\n",
       "      <td>-0.108021</td>\n",
       "      <td>-0.106995</td>\n",
       "      <td>-0.108450</td>\n",
       "      <td>-0.108942</td>\n",
       "      <td>-0.109287</td>\n",
       "      <td>-0.108860</td>\n",
       "      <td>...</td>\n",
       "      <td>-0.033031</td>\n",
       "      <td>-0.023423</td>\n",
       "      <td>-0.015248</td>\n",
       "      <td>-0.006953</td>\n",
       "      <td>0.002851</td>\n",
       "      <td>0.006680</td>\n",
       "      <td>0.008641</td>\n",
       "      <td>0.007968</td>\n",
       "      <td>0.007512</td>\n",
       "      <td>0.002170</td>\n",
       "    </tr>\n",
       "    <tr>\n",
       "      <th>1</th>\n",
       "      <td>-0.106331</td>\n",
       "      <td>-0.106070</td>\n",
       "      <td>-0.108797</td>\n",
       "      <td>-0.106148</td>\n",
       "      <td>-0.105297</td>\n",
       "      <td>-0.106171</td>\n",
       "      <td>-0.105929</td>\n",
       "      <td>-0.107059</td>\n",
       "      <td>-0.107814</td>\n",
       "      <td>-0.110461</td>\n",
       "      <td>...</td>\n",
       "      <td>0.087279</td>\n",
       "      <td>0.075642</td>\n",
       "      <td>0.062087</td>\n",
       "      <td>0.045206</td>\n",
       "      <td>0.030564</td>\n",
       "      <td>0.015205</td>\n",
       "      <td>0.004341</td>\n",
       "      <td>-0.004882</td>\n",
       "      <td>-0.004405</td>\n",
       "      <td>-0.005831</td>\n",
       "    </tr>\n",
       "    <tr>\n",
       "      <th>2</th>\n",
       "      <td>-0.109447</td>\n",
       "      <td>-0.110476</td>\n",
       "      <td>-0.109381</td>\n",
       "      <td>-0.110666</td>\n",
       "      <td>-0.111175</td>\n",
       "      <td>-0.113166</td>\n",
       "      <td>-0.111117</td>\n",
       "      <td>-0.111263</td>\n",
       "      <td>-0.112443</td>\n",
       "      <td>-0.112040</td>\n",
       "      <td>...</td>\n",
       "      <td>0.062422</td>\n",
       "      <td>0.067091</td>\n",
       "      <td>0.076571</td>\n",
       "      <td>0.085279</td>\n",
       "      <td>0.095423</td>\n",
       "      <td>0.105042</td>\n",
       "      <td>0.110485</td>\n",
       "      <td>0.111339</td>\n",
       "      <td>0.106531</td>\n",
       "      <td>0.096575</td>\n",
       "    </tr>\n",
       "    <tr>\n",
       "      <th>3</th>\n",
       "      <td>-0.107145</td>\n",
       "      <td>-0.106463</td>\n",
       "      <td>-0.105876</td>\n",
       "      <td>-0.105608</td>\n",
       "      <td>-0.108607</td>\n",
       "      <td>-0.109519</td>\n",
       "      <td>-0.110958</td>\n",
       "      <td>-0.107829</td>\n",
       "      <td>-0.108252</td>\n",
       "      <td>-0.109649</td>\n",
       "      <td>...</td>\n",
       "      <td>-0.021709</td>\n",
       "      <td>-0.007395</td>\n",
       "      <td>0.001012</td>\n",
       "      <td>0.012986</td>\n",
       "      <td>0.018226</td>\n",
       "      <td>0.024746</td>\n",
       "      <td>0.033511</td>\n",
       "      <td>0.041325</td>\n",
       "      <td>0.045792</td>\n",
       "      <td>0.054357</td>\n",
       "    </tr>\n",
       "    <tr>\n",
       "      <th>4</th>\n",
       "      <td>-0.072847</td>\n",
       "      <td>-0.070148</td>\n",
       "      <td>-0.070943</td>\n",
       "      <td>-0.071408</td>\n",
       "      <td>-0.069083</td>\n",
       "      <td>-0.071618</td>\n",
       "      <td>-0.068355</td>\n",
       "      <td>-0.067488</td>\n",
       "      <td>-0.064521</td>\n",
       "      <td>-0.061637</td>\n",
       "      <td>...</td>\n",
       "      <td>-0.046266</td>\n",
       "      <td>-0.048433</td>\n",
       "      <td>-0.039686</td>\n",
       "      <td>-0.042258</td>\n",
       "      <td>-0.036259</td>\n",
       "      <td>-0.027008</td>\n",
       "      <td>-0.017318</td>\n",
       "      <td>-0.000535</td>\n",
       "      <td>0.009948</td>\n",
       "      <td>0.023878</td>\n",
       "    </tr>\n",
       "  </tbody>\n",
       "</table>\n",
       "<p>5 rows × 177 columns</p>\n",
       "</div>"
      ],
      "text/plain": [
       "        0         1         2         3         4         5         6    \\\n",
       "0 -0.105862 -0.105590 -0.104993 -0.106827 -0.108021 -0.106995 -0.108450   \n",
       "1 -0.106331 -0.106070 -0.108797 -0.106148 -0.105297 -0.106171 -0.105929   \n",
       "2 -0.109447 -0.110476 -0.109381 -0.110666 -0.111175 -0.113166 -0.111117   \n",
       "3 -0.107145 -0.106463 -0.105876 -0.105608 -0.108607 -0.109519 -0.110958   \n",
       "4 -0.072847 -0.070148 -0.070943 -0.071408 -0.069083 -0.071618 -0.068355   \n",
       "\n",
       "        7         8         9    ...       167       168       169       170  \\\n",
       "0 -0.108942 -0.109287 -0.108860  ... -0.033031 -0.023423 -0.015248 -0.006953   \n",
       "1 -0.107059 -0.107814 -0.110461  ...  0.087279  0.075642  0.062087  0.045206   \n",
       "2 -0.111263 -0.112443 -0.112040  ...  0.062422  0.067091  0.076571  0.085279   \n",
       "3 -0.107829 -0.108252 -0.109649  ... -0.021709 -0.007395  0.001012  0.012986   \n",
       "4 -0.067488 -0.064521 -0.061637  ... -0.046266 -0.048433 -0.039686 -0.042258   \n",
       "\n",
       "        171       172       173       174       175       176  \n",
       "0  0.002851  0.006680  0.008641  0.007968  0.007512  0.002170  \n",
       "1  0.030564  0.015205  0.004341 -0.004882 -0.004405 -0.005831  \n",
       "2  0.095423  0.105042  0.110485  0.111339  0.106531  0.096575  \n",
       "3  0.018226  0.024746  0.033511  0.041325  0.045792  0.054357  \n",
       "4 -0.036259 -0.027008 -0.017318 -0.000535  0.009948  0.023878  \n",
       "\n",
       "[5 rows x 177 columns]"
      ]
     },
     "execution_count": 173,
     "metadata": {},
     "output_type": "execute_result"
    }
   ],
   "source": [
    "# read gel-images ...\n",
    "gels_df = pd.read_csv('processed_gels.csv', encoding='utf-8')\n",
    "#gels_df.shape\n",
    "\n",
    "# drop the EARLY part of the waveform\n",
    "ys= range(0, 250)\n",
    "ylist= list( map(str, ys) )\n",
    "gels_df.drop(columns=ylist, inplace=True)\n",
    "\n",
    "# drop Unnamed: 0 column\n",
    "gels_df.drop(columns=['Unnamed: 0'], inplace=True)\n",
    "#gels_df.head(5)\n",
    "\n",
    "# BELOW is a FIX to avoid dealing with renaming cols.\n",
    "# temporarily make pandas dataframe a matrix\n",
    "tmp= gels_df.as_matrix(columns=None)\n",
    "tmp.shape\n",
    "# convert matrix-back  to a data-frame\n",
    "gels_df = pd.DataFrame([])\n",
    "data = pd.DataFrame(tmp)\n",
    "gels_df = gels_df.append(data)\n",
    "gels_df.head(5)"
   ]
  },
  {
   "cell_type": "code",
   "execution_count": 174,
   "metadata": {},
   "outputs": [],
   "source": [
    "#plt.plot(gels_df.iloc[26*5+1,:])"
   ]
  },
  {
   "cell_type": "markdown",
   "metadata": {},
   "source": [
    "### Read the gel-label data"
   ]
  },
  {
   "cell_type": "code",
   "execution_count": 175,
   "metadata": {},
   "outputs": [
    {
     "name": "stderr",
     "output_type": "stream",
     "text": [
      "/anaconda3/envs/gelquant/lib/python3.7/site-packages/pandas/util/_decorators.py:188: FutureWarning: The `sheetname` keyword is deprecated, use `sheet_name` instead\n",
      "  return func(*args, **kwargs)\n"
     ]
    }
   ],
   "source": [
    "# read labels ...\n",
    "labels_df = pd.read_excel('cleaned_data/TeachingGels Score Sheet.xlsx', sheetname='Sheet1')\n",
    "labels_df.drop(columns=['Unnamed: 4', 'Score Legend', 'Unnamed: 6'], inplace=True)\n",
    "\n",
    "labels_df['CT_score'].replace('C',0,inplace=True)\n",
    "labels_df['WZ_score'].replace('C',0,inplace=True)\n",
    "labels_df['CT_score'].replace('M',10,inplace=True)\n",
    "labels_df['WZ_score'].replace('M',10,inplace=True)\n",
    "\n",
    "\n",
    "# max of. the 2 columns\n",
    "labels_df['liberal_score'] = labels_df[[\"CT_score\", \"WZ_score\"]].max(axis=1)\n",
    "# min of. the 2 columns\n",
    "labels_df['conservative_score'] = labels_df[[\"CT_score\", \"WZ_score\"]].min(axis=1)\n",
    "\n",
    "\n",
    "# make it a 3-class classfication problem ...\n",
    "labels_df['liberal_score'].replace(-1, -2,inplace=True)\n",
    "labels_df['liberal_score'].replace(1, 2,inplace=True)\n",
    "labels_df['conservative_score'].replace(-1, -2,inplace=True)\n",
    "labels_df['conservative_score'].replace(1, 2,inplace=True)"
   ]
  },
  {
   "cell_type": "code",
   "execution_count": 186,
   "metadata": {},
   "outputs": [
    {
     "data": {
      "image/png": "[encoded data removed]",
      "text/plain": [
       "<Figure size 504x504 with 2 Axes>"
      ]
     },
     "metadata": {},
     "output_type": "display_data"
    }
   ],
   "source": [
    "classes =[-2, 0, 2]\n",
    "cm_analysis(labels_df['liberal_score'], labels_df['conservative_score'], classes, ymap=None, figsize=(7,7))"
   ]
  },
  {
   "cell_type": "code",
   "execution_count": 177,
   "metadata": {},
   "outputs": [],
   "source": [
    "def cm_analysis(y_true, y_pred, labels, ymap=None, figsize=(10,10)):\n",
    "    \"\"\"\n",
    "    Generate matrix plot of confusion matrix with pretty annotations.\n",
    "    The plot image is saved to disk.\n",
    "    args: \n",
    "      y_true:    true label of the data, with shape (nsamples,)\n",
    "      y_pred:    prediction of the data, with shape (nsamples,)\n",
    "      filename:  filename of figure file to save\n",
    "      labels:    string array, name the order of class labels in the confusion matrix.\n",
    "                 use `clf.classes_` if using scikit-learn models.\n",
    "                 with shape (nclass,).\n",
    "      ymap:      dict: any -> string, length == nclass.\n",
    "                 if not None, map the labels & ys to more understandable strings.\n",
    "                 Caution: original y_true, y_pred and labels must align.\n",
    "      figsize:   the size of the figure plotted.\n",
    "    \"\"\"\n",
    "    if ymap is not None:\n",
    "        y_pred = [ymap[yi] for yi in y_pred]\n",
    "        y_true = [ymap[yi] for yi in y_true]\n",
    "        labels = [ymap[yi] for yi in labels]\n",
    "    cm = confusion_matrix(y_true, y_pred, labels=labels)\n",
    "    cm_sum = np.sum(cm, axis=1, keepdims=True)\n",
    "    cm_perc = cm / cm_sum.astype(float) * 100\n",
    "    annot = np.empty_like(cm).astype(str)\n",
    "    nrows, ncols = cm.shape\n",
    "    for i in range(nrows):\n",
    "        for j in range(ncols):\n",
    "            c = cm[i, j]\n",
    "            p = cm_perc[i, j]\n",
    "            if i == j:\n",
    "                s = cm_sum[i]\n",
    "                annot[i, j] = '%.1f%%\\n%d/%d' % (p, c, s)\n",
    "            elif c == 0:\n",
    "                annot[i, j] = ''\n",
    "            else:\n",
    "                annot[i, j] = '%.1f%%\\n%d' % (p, c)\n",
    "    cm = pd.DataFrame(cm, index=labels, columns=labels)\n",
    "    cm.index.name = 'Actual'\n",
    "    cm.columns.name = 'Predicted'\n",
    "    fig, ax = plt.subplots(figsize=figsize)\n",
    "    sns.heatmap(cm, annot=annot, fmt='', ax=ax)\n",
    "    #plt.savefig(filename)\n",
    "    plt.show()"
   ]
  },
  {
   "cell_type": "markdown",
   "metadata": {},
   "source": [
    "### Non-AUGMENTED liberal scoring logistic regression model"
   ]
  },
  {
   "cell_type": "code",
   "execution_count": 178,
   "metadata": {},
   "outputs": [
    {
     "name": "stderr",
     "output_type": "stream",
     "text": [
      "/anaconda3/envs/gelquant/lib/python3.7/site-packages/ipykernel_launcher.py:24: DeprecationWarning: \n",
      ".ix is deprecated. Please use\n",
      ".loc for label based indexing or\n",
      ".iloc for positional indexing\n",
      "\n",
      "See the documentation here:\n",
      "http://pandas.pydata.org/pandas-docs/stable/indexing.html#ix-indexer-is-deprecated\n",
      "/anaconda3/envs/gelquant/lib/python3.7/site-packages/ipykernel_launcher.py:24: FutureWarning: Method .as_matrix will be removed in a future version. Use .values instead.\n"
     ]
    },
    {
     "name": "stdout",
     "output_type": "stream",
     "text": [
      "model train accuracy: 0.7168458781362007\n",
      "model cross vaildation accuracy:0.603578796682245\n"
     ]
    },
    {
     "data": {
      "image/png": "[encoded data removed]",
      "text/plain": [
       "<Figure size 576x576 with 2 Axes>"
      ]
     },
     "metadata": {},
     "output_type": "display_data"
    },
    {
     "name": "stdout",
     "output_type": "stream",
     "text": [
      "model test accuracy: 0.603578796682245\n"
     ]
    }
   ],
   "source": [
    "from sklearn.model_selection import train_test_split\n",
    "from sklearn.model_selection import cross_val_score\n",
    "from sklearn.linear_model import LogisticRegression\n",
    "\n",
    "from sklearn.metrics import accuracy_score\n",
    "from sklearn.metrics import confusion_matrix\n",
    "from sklearn.preprocessing import StandardScaler\n",
    "\n",
    "quality= pd.concat([labels_df, gels_df], axis=1)\n",
    "\n",
    "# drop \"M\" rows\n",
    "quality.drop(quality[quality.liberal_score== 10].index, inplace=True)\n",
    "\n",
    "# TESTING a random pattern  ...\n",
    "#random_df = pd.DataFrame(np.random.randint(0,100,size=(364, 425)).astype(float))\n",
    "#labels_df = pd.DataFrame(np.random.randint(-2, 3, size=(364, 1)), columns=['conservative_score'])\n",
    "#quality= pd.concat([labels_df, random_df], axis=1)\n",
    "\n",
    "quality.drop(columns=['Gel', 'Lane', 'CT_score', 'WZ_score', 'conservative_score'], axis=1, inplace=True)\n",
    "quality['Target'] = quality['liberal_score']\n",
    "y = quality.Target.values\n",
    "\n",
    "feature_cols = [i for i in list(quality.columns) if i not in ['Target', 'liberal_score', 'Unnamed: 0']]\n",
    "X = quality.ix[:, feature_cols].as_matrix()\n",
    "\n",
    "#X = quality.ix[:, feature_cols].as_matrix()\n",
    "\n",
    "# Illustrated here for manual splitting of training and testing data.\n",
    "X_train, X_test, y_train, y_test = train_test_split(X, y, test_size=0.2, random_state=0)\n",
    "\n",
    "\n",
    "# Standarize features\n",
    "scaler = StandardScaler()\n",
    "X_train= scaler.fit_transform(X_train)\n",
    "X_test= scaler.transform(X_test)\n",
    "\n",
    "\n",
    "# define method\n",
    "logreg= LogisticRegression(multi_class='multinomial', class_weight='balanced', solver='newton-cg')\n",
    "\n",
    "# Create an instance of Logistic Regression Classifier and fit the data.\n",
    "logreg.fit(X_train, y_train)\n",
    "\n",
    "y_train_pred = logreg.predict(X_train)\n",
    "\n",
    "# Use score method to get accuracy of model\n",
    "score = logreg.score(X_train, y_train)\n",
    "print('model train accuracy:', score)\n",
    "\n",
    "# Use cross_val_score to automatically split, fit, and score.\n",
    "scores = cross_val_score(logreg, X_train, y_train, cv=10)\n",
    "#print(scores)\n",
    "print('model cross vaildation accuracy:{}'.format(scores.mean()))\n",
    "\n",
    "\n",
    "#plt.figure(figsize = (10,7))\n",
    "sns.set(font_scale=1.4)#for label size\n",
    "\n",
    "classes =[-2, 0, 2]\n",
    "y_pred = logreg.predict(X_test)\n",
    "cm_analysis(y_test, y_pred, classes, ymap=None, figsize=(8,8))\n",
    "\n",
    "# Use score method to get accuracy of model\n",
    "score = logreg.score(X_test, y_test)\n",
    "print('model test accuracy: {}'.format(scores.mean()))"
   ]
  },
  {
   "cell_type": "markdown",
   "metadata": {},
   "source": [
    "### Data augmention"
   ]
  },
  {
   "cell_type": "markdown",
   "metadata": {},
   "source": [
    "### Read the gel-label data"
   ]
  },
  {
   "cell_type": "code",
   "execution_count": 179,
   "metadata": {},
   "outputs": [
    {
     "name": "stderr",
     "output_type": "stream",
     "text": [
      "/anaconda3/envs/gelquant/lib/python3.7/site-packages/pandas/util/_decorators.py:188: FutureWarning: The `sheetname` keyword is deprecated, use `sheet_name` instead\n",
      "  return func(*args, **kwargs)\n"
     ]
    }
   ],
   "source": [
    "# read labels ...\n",
    "labels_df = pd.read_excel('cleaned_data/TeachingGels Score Sheet.xlsx', sheetname='Sheet1')\n",
    "labels_df.drop(columns=['Unnamed: 4', 'Score Legend', 'Unnamed: 6'], inplace=True)\n",
    "\n",
    "\n",
    "labels_df['CT_score'].replace('C',0,inplace=True)\n",
    "labels_df['WZ_score'].replace('C',0,inplace=True)\n",
    "labels_df['CT_score'].replace('M',10,inplace=True)\n",
    "labels_df['WZ_score'].replace('M',10,inplace=True)\n",
    "\n",
    "\n",
    "# max of. the 2 columns\n",
    "labels_df['liberal_score'] = labels_df[[\"CT_score\", \"WZ_score\"]].max(axis=1)\n",
    "\n",
    "# min of. the 2 columns\n",
    "labels_df['conservative_score'] = labels_df[[\"CT_score\", \"WZ_score\"]].min(axis=1)\n",
    "\n",
    "\n",
    "# make it a 3-class classfication problem ...\n",
    "labels_df['liberal_score'].replace(-1, -2,inplace=True)\n",
    "labels_df['conservative_score'].replace(-1, -2,inplace=True)\n",
    "labels_df['liberal_score'].replace(1, 2,inplace=True)\n",
    "labels_df['conservative_score'].replace(1, 2,inplace=True)"
   ]
  },
  {
   "cell_type": "code",
   "execution_count": 180,
   "metadata": {},
   "outputs": [],
   "source": [
    "from statsmodels import api as sm\n",
    "\n",
    "def nextpow2(i):\n",
    "    '''\n",
    "    Find the next power 2 number for FFT\n",
    "    '''\n",
    "    \n",
    "    n = 1\n",
    "    while n < i: n *= 2\n",
    "    return n\n",
    "\n",
    "def shift_signal_in_frequency_domain(datin, shift):\n",
    "    '''\n",
    "    This is function to shift a signal in frequency domain. \n",
    "    The idea is in the frequency domain, \n",
    "    we just multiply the signal with the phase shift. \n",
    "    '''\n",
    "    Nin = len(datin) \n",
    "    \n",
    "    # get the next power 2 number for fft\n",
    "    N = nextpow2(Nin +np.max(np.abs(shift)))\n",
    "    \n",
    "    # do the fft\n",
    "    fdatin = np.fft.fft(datin, N)\n",
    "    \n",
    "    # get the phase shift for the signal, shift here is D in the above explaination\n",
    "    ik = np.array([2j*np.pi*k for k in range(0, N)]) / N \n",
    "    fshift = np.exp(-ik*shift)\n",
    "        \n",
    "    # multiple the signal with the shift and transform it back to time domain\n",
    "    datout = np.real(np.fft.ifft(fshift * fdatin))\n",
    "    \n",
    "    # only get the data have the same length as the input signal\n",
    "    datout = datout[0:Nin]\n",
    "    \n",
    "    return datout\n",
    "\n",
    "\n",
    "# temporarily make pandas dataframe a matrix (to append lag signals)\n",
    "tmp= np.empty((0, 177), float)\n",
    "# tmp.shape\n",
    "\n",
    "strt_lag= -14\n",
    "end_lag= 14\n",
    "inc_lag= 2\n",
    "\n",
    "# augment shifted signals\n",
    "for index, row in gels_df.iterrows():\n",
    "    for lag in range(strt_lag, end_lag, inc_lag):    \n",
    "        y_shift = shift_signal_in_frequency_domain(row, lag)    \n",
    "        tmp = np.r_[tmp, y_shift.reshape((1, 177))]\n",
    "\n",
    "# tmp.shape\n",
    "# make the data-augmented matrix to a data-frame\n",
    "gels_aug_df= pd.DataFrame(tmp)\n",
    "#gels_aug_df\n",
    "\n",
    "# augment corresponding labels into the matrix\n",
    "labels_aug_df= pd.DataFrame()\n",
    "for index, row in labels_df.iterrows():\n",
    "    for lag in range(strt_lag, end_lag, inc_lag):    \n",
    "        labels_aug_df= labels_aug_df.append(row)\n",
    "        \n",
    "#labels_aug_df\n",
    "\n"
   ]
  },
  {
   "cell_type": "code",
   "execution_count": null,
   "metadata": {},
   "outputs": [],
   "source": []
  },
  {
   "cell_type": "markdown",
   "metadata": {},
   "source": [
    "### RESET Indices"
   ]
  },
  {
   "cell_type": "code",
   "execution_count": 181,
   "metadata": {},
   "outputs": [],
   "source": [
    "gels_aug_df.reset_index(drop=True, inplace=True)\n",
    "labels_aug_df.reset_index(drop=True, inplace=True)"
   ]
  },
  {
   "cell_type": "code",
   "execution_count": null,
   "metadata": {},
   "outputs": [],
   "source": []
  },
  {
   "cell_type": "markdown",
   "metadata": {},
   "source": [
    "### Build an AUGMENTED logistic regression model"
   ]
  },
  {
   "cell_type": "code",
   "execution_count": 182,
   "metadata": {},
   "outputs": [
    {
     "name": "stderr",
     "output_type": "stream",
     "text": [
      "/anaconda3/envs/gelquant/lib/python3.7/site-packages/ipykernel_launcher.py:20: DeprecationWarning: \n",
      ".ix is deprecated. Please use\n",
      ".loc for label based indexing or\n",
      ".iloc for positional indexing\n",
      "\n",
      "See the documentation here:\n",
      "http://pandas.pydata.org/pandas-docs/stable/indexing.html#ix-indexer-is-deprecated\n",
      "/anaconda3/envs/gelquant/lib/python3.7/site-packages/ipykernel_launcher.py:20: FutureWarning: Method .as_matrix will be removed in a future version. Use .values instead.\n"
     ]
    },
    {
     "name": "stdout",
     "output_type": "stream",
     "text": [
      "model train accuracy: 0.6642784032753326\n",
      "model cross vaildation accuracy:0.641748896883168\n"
     ]
    },
    {
     "data": {
      "image/png": "[encoded data removed]",
      "text/plain": [
       "<Figure size 576x576 with 2 Axes>"
      ]
     },
     "metadata": {},
     "output_type": "display_data"
    },
    {
     "name": "stdout",
     "output_type": "stream",
     "text": [
      "model test accuracy: 0.6571428571428571\n"
     ]
    }
   ],
   "source": [
    "from sklearn.model_selection import train_test_split\n",
    "from sklearn.model_selection import cross_val_score\n",
    "from sklearn.linear_model import LogisticRegression\n",
    "\n",
    "from sklearn.metrics import accuracy_score\n",
    "from sklearn.metrics import confusion_matrix\n",
    "from sklearn.preprocessing import StandardScaler\n",
    "\n",
    "quality_aug= pd.concat([labels_aug_df, gels_aug_df], axis=1)\n",
    "\n",
    "# drop \"M\" rows\n",
    "quality_aug.drop(quality_aug[quality_aug.liberal_score== 10].index, inplace=True)\n",
    "\n",
    "\n",
    "quality_aug.drop(columns=['Gel', 'Lane', 'CT_score', 'WZ_score', 'conservative_score'], axis=1, inplace=True)\n",
    "quality_aug['Target'] = quality_aug['liberal_score']\n",
    "y = quality_aug.Target.values\n",
    "\n",
    "feature_cols = [i for i in list(quality.columns) if i not in ['Target', 'liberal_score', 'Unnamed: 0']]\n",
    "X = quality_aug.ix[:, feature_cols].as_matrix()\n",
    "\n",
    "\n",
    "# Illustrated here for manual splitting of training and testing data.\n",
    "X_train, X_test_aug, y_train, y_test_aug = train_test_split(X, y, test_size=0.2, random_state=0)\n",
    "\n",
    "\n",
    "# Standarize features\n",
    "scaler = StandardScaler()\n",
    "X_train= scaler.fit_transform(X_train)\n",
    "X_test_aug= scaler.transform(X_test_aug)\n",
    "\n",
    "\n",
    "# define method\n",
    "logreg= LogisticRegression(multi_class='multinomial', class_weight='balanced', solver='newton-cg')\n",
    "\n",
    "# Create an instance of Logistic Regression Classifier and fit the data.\n",
    "logreg.fit(X_train, y_train)\n",
    "\n",
    "y_train_pred = logreg.predict(X_train)\n",
    "\n",
    "# Use score method to get accuracy of model\n",
    "score = logreg.score(X_train, y_train)\n",
    "print('model train accuracy:', score)\n",
    "\n",
    "# Use cross_val_score to automatically split, fit, and score.\n",
    "scores = cross_val_score(logreg, X_train, y_train, cv=10)\n",
    "#print(scores)\n",
    "print('model cross vaildation accuracy:{}'.format(scores.mean()))\n",
    "\n",
    "\n",
    "#plt.figure(figsize = (10,7))\n",
    "sns.set(font_scale=1.4)#for label size\n",
    "\n",
    "classes =[-2, 0, 2]\n",
    "y_pred = logreg.predict(X_test)\n",
    "cm_analysis(y_test, y_pred, classes, ymap=None, figsize=(8,8))\n",
    "\n",
    "# Use score method to get accuracy of model\n",
    "score = logreg.score(X_test, y_test)\n",
    "print('model test accuracy: {}'.format(score))"
   ]
  },
  {
   "cell_type": "markdown",
   "metadata": {},
   "source": [
    "### Train a Random forest classifier"
   ]
  },
  {
   "cell_type": "code",
   "execution_count": 183,
   "metadata": {},
   "outputs": [
    {
     "name": "stderr",
     "output_type": "stream",
     "text": [
      "/anaconda3/envs/gelquant/lib/python3.7/site-packages/ipykernel_launcher.py:15: DeprecationWarning: \n",
      ".ix is deprecated. Please use\n",
      ".loc for label based indexing or\n",
      ".iloc for positional indexing\n",
      "\n",
      "See the documentation here:\n",
      "http://pandas.pydata.org/pandas-docs/stable/indexing.html#ix-indexer-is-deprecated\n",
      "  from ipykernel import kernelapp as app\n",
      "/anaconda3/envs/gelquant/lib/python3.7/site-packages/ipykernel_launcher.py:15: FutureWarning: Method .as_matrix will be removed in a future version. Use .values instead.\n",
      "  from ipykernel import kernelapp as app\n"
     ]
    },
    {
     "name": "stdout",
     "output_type": "stream",
     "text": [
      "model train accuracy: 0.9994882292732856\n",
      "model cross vaildation accuracy:0.8377886572689277\n"
     ]
    },
    {
     "data": {
      "image/png": "[encoded data removed]",
      "text/plain": [
       "<Figure size 576x576 with 2 Axes>"
      ]
     },
     "metadata": {},
     "output_type": "display_data"
    },
    {
     "name": "stdout",
     "output_type": "stream",
     "text": [
      "model test accuracy: 0.9\n"
     ]
    }
   ],
   "source": [
    "# Load scikit's random forest classifier library\n",
    "from sklearn.ensemble import RandomForestClassifier\n",
    "\n",
    "quality_aug= pd.concat([labels_aug_df, gels_aug_df], axis=1)\n",
    "\n",
    "# drop \"M\" rows\n",
    "quality_aug.drop(quality_aug[quality_aug.liberal_score== 10].index, inplace=True)\n",
    "\n",
    "\n",
    "quality_aug.drop(columns=['Gel', 'Lane', 'CT_score', 'WZ_score', 'conservative_score'], axis=1, inplace=True)\n",
    "quality_aug['Target'] = quality_aug['liberal_score']\n",
    "y = quality_aug.Target.values\n",
    "\n",
    "feature_cols = [i for i in list(quality.columns) if i not in ['Target', 'liberal_score', 'Unnamed: 0']]\n",
    "X = quality_aug.ix[:, feature_cols].as_matrix()\n",
    "\n",
    "\n",
    "# Illustrated here for manual splitting of training and testing data.\n",
    "X_train, X_test_aug, y_train, y_test_aug = train_test_split(X, y, test_size=0.2, random_state=0)\n",
    "\n",
    "\n",
    "# Standarize features\n",
    "scaler = StandardScaler()\n",
    "X_train= scaler.fit_transform(X_train)\n",
    "#X_test_aug= scaler.transform(X_test_aug)\n",
    "\n",
    "\n",
    "# define method\n",
    "rf_clf = RandomForestClassifier(n_jobs=2, n_estimators=40, random_state=0)\n",
    "\n",
    "# Create an instance of Logistic Regression Classifier and fit the data.\n",
    "rf_clf.fit(X_train, y_train)\n",
    "\n",
    "y_train_pred = rf_clf.predict(X_train)\n",
    "\n",
    "# Use score method to get accuracy of model\n",
    "score = rf_clf.score(X_train, y_train)\n",
    "print('model train accuracy:', score)\n",
    "\n",
    "# Use cross_val_score to automatically split, fit, and score.\n",
    "scores = cross_val_score(rf_clf, X_train, y_train, cv=10)\n",
    "#print(scores)\n",
    "print('model cross vaildation accuracy:{}'.format(scores.mean()))\n",
    "\n",
    "\n",
    "#plt.figure(figsize = (10,7))\n",
    "sns.set(font_scale=1.4)#for label size\n",
    "\n",
    "classes =[-2, 0, 2]\n",
    "y_pred = rf_clf.predict(X_test)\n",
    "cm_analysis(y_test, y_pred, classes, ymap=None, figsize=(8,8))\n",
    "\n",
    "# Use score method to get accuracy of model\n",
    "score = rf_clf.score(X_test, y_test)\n",
    "print('model test accuracy: {}'.format(score))"
   ]
  },
  {
   "cell_type": "markdown",
   "metadata": {},
   "source": [
    "### Save the model"
   ]
  },
  {
   "cell_type": "code",
   "execution_count": 184,
   "metadata": {},
   "outputs": [],
   "source": [
    "import pickle\n",
    "f1='random_forest_model.pkl'\n",
    "f2='scaler.pkl'\n",
    "\n",
    "#pickle.dump(rf_clf, open(f1, 'wb'))\n",
    "#pickle.dump(scaler, open(f2, 'wb'))\n",
    "\n",
    "load_rf_model =pickle.load(open(f1, 'rb'))\n",
    "#load_lr_model.coef_\n",
    "\n",
    "y_load_predit= load_rf_model.predict(X_test)\n",
    "#y_load_predit"
   ]
  },
  {
   "cell_type": "code",
   "execution_count": null,
   "metadata": {},
   "outputs": [],
   "source": []
  },
  {
   "cell_type": "code",
   "execution_count": null,
   "metadata": {},
   "outputs": [],
   "source": []
  },
  {
   "cell_type": "code",
   "execution_count": null,
   "metadata": {},
   "outputs": [],
   "source": []
  }
 ],
 "metadata": {
  "kernelspec": {
   "display_name": "gelquant",
   "language": "python",
   "name": "gelquant"
  },
  "language_info": {
   "codemirror_mode": {
    "name": "ipython",
    "version": 3
   },
   "file_extension": ".py",
   "mimetype": "text/x-python",
   "name": "python",
   "nbconvert_exporter": "python",
   "pygments_lexer": "ipython3",
   "version": "3.7.3"
  }
 },
 "nbformat": 4,
 "nbformat_minor": 2
}
